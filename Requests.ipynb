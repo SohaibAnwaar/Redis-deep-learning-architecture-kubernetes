{
 "cells": [
  {
   "cell_type": "code",
   "execution_count": 1,
   "metadata": {},
   "outputs": [],
   "source": [
    "import redis\n",
    "\n",
    "# connect to redis\n",
    "import redis\n",
    "\n",
    "# connect with redis server as Alice\n",
    "r = redis.Redis(host='192.168.18.14', port=6379)\n",
    "\n"
   ]
  },
  {
   "cell_type": "code",
   "execution_count": 2,
   "metadata": {},
   "outputs": [],
   "source": [
    "requests = [\n",
    " \"I need a beer\",\n",
    " \"Hey! How are you Sohaib! I need 2 fresh lime\",\n",
    " \"Boy! Give me a pizza\",\n",
    " \"Hey My name is Nina! from tekken 7 I need you phone number!\",\n",
    " \"Hey I need Invoker's magic\",\n",
    " \"I want the owner of the magic shop! He just give ciggrestts to a monkey!\",\n",
    " \"Hey! Wanna go on a date!\",\n",
    " \"I need pudge arcana hook!\"\n",
    "]"
   ]
  },
  {
   "cell_type": "code",
   "execution_count": 12,
   "metadata": {},
   "outputs": [
    {
     "name": "stdout",
     "output_type": "stream",
     "text": [
      "Request Done 1000\n"
     ]
    }
   ],
   "source": [
    "\n",
    "import io, random\n",
    "from datetime import datetime, timedelta\n",
    "import json\n",
    "\n",
    "\n",
    "brust     = 1000\n",
    "count     = 0 \n",
    "\n",
    "# publish new music in the channel epic_music\n",
    "\n",
    "\n",
    "\n",
    "\n",
    "\n",
    "\n",
    "with r.pipeline() as pipe:\n",
    "    for i in range(0, brust):\n",
    "        random_id = int(random.random()*100000)\n",
    "        image= {\n",
    "                'request'        : random.choice(requests),\n",
    "                'request_time'   :str(datetime.today()),\n",
    "                'request_status' :\"pending\"\n",
    "                }\n",
    "\n",
    "        pipe.publish('request', json.dumps(image))\n",
    "        count+=1\n",
    "        \n",
    "    \n",
    "    pipe.execute()\n",
    "print(f\"Request Done {count}\")"
   ]
  },
  {
   "cell_type": "markdown",
   "metadata": {},
   "source": [
    "# Get All Request"
   ]
  },
  {
   "cell_type": "code",
   "execution_count": 4,
   "metadata": {},
   "outputs": [
    {
     "name": "stdout",
     "output_type": "stream",
     "text": [
      "b'processed_time'\n",
      "2\n",
      "Request Processed 1000\n",
      "Average Whole Request Processing Time this artitecture: 0.21413900000000002\n",
      "Average Request Processed Time By CSR: 0.019106\n",
      "Request Processed by Counter({'sohaib-Z490-GAMING-X': 1})\n"
     ]
    }
   ],
   "source": [
    "from collections import Counter\n",
    "def millis_interval(end, start):\n",
    "    \"\"\"start and end are datetime instances\"\"\"\n",
    "    diff = end - start\n",
    "    millis = diff.days * 24 * 60 * 60 * 1000\n",
    "    millis += diff.seconds * 1000\n",
    "    millis += diff.microseconds / 1000\n",
    "    return millis\n",
    "\n",
    "count = 0\n",
    "processing_time = []\n",
    "task_done_time  = []\n",
    "server_name     = []\n",
    "not_processed   = 0\n",
    "\n",
    "\n",
    "\n",
    "for k in r.scan_iter(match='*'):\n",
    "    i = r.hgetall(k)\n",
    "#     print(i)\n",
    "    try:\n",
    "        request_time    = datetime.strptime(i[b'request_time'].decode(), \"%Y-%m-%d %H:%M:%S.%f\")\n",
    "        processed_time   = datetime.strptime(i[b'processed_time'].decode(), \"%Y-%m-%d %H:%M:%S.%f\")\n",
    "        response_time   = datetime.strptime(i[b'received_time'].decode(), \"%Y-%m-%d %H:%M:%S.%f\")\n",
    "        CSR_NAME        = i[b'server_name'].decode()\n",
    "    \n",
    "        #+ timedelta(hours=5)\n",
    "        processing_time.append(millis_interval(processed_time, request_time ))\n",
    "        task_done_time.append(millis_interval(processed_time, response_time  ))\n",
    "        server_name.append(CSR_NAME)\n",
    "    except Exception as e:\n",
    "        print(e)\n",
    "        pass\n",
    "    \n",
    "    count += 1\n",
    "    \n",
    "print(count)\n",
    "print(f\"Request Processed {brust - not_processed}\")\n",
    "print(f\"Average Whole Request Processing Time this artitecture: {(sum(processing_time)/len(processing_time))/1000}\")\n",
    "print(f\"Average Request Processed Time By CSR: {(sum(task_done_time)/len(task_done_time))/1000}\")\n",
    "print(f\"Request Processed by {Counter(server_name)}\")"
   ]
  },
  {
   "cell_type": "markdown",
   "metadata": {},
   "source": [
    "# Delete All"
   ]
  },
  {
   "cell_type": "code",
   "execution_count": 13,
   "metadata": {},
   "outputs": [
    {
     "data": {
      "text/plain": [
       "152"
      ]
     },
     "execution_count": 13,
     "metadata": {},
     "output_type": "execute_result"
    }
   ],
   "source": [
    "from redis import StrictRedis\n",
    "\n",
    "def clear_cache_ns(ns, r):\n",
    "    \"\"\"\n",
    "    Clears a namespace in redis cache.\n",
    "    This may be very time consuming.\n",
    "    :param ns: str, namespace i.e your:prefix*\n",
    "    :return: int, num cleared keys\n",
    "    \"\"\"\n",
    "    count = 0\n",
    "    pipe = r.pipeline()\n",
    "    for key in r.scan_iter(ns):\n",
    "        pipe.delete(key)\n",
    "        count += 1\n",
    "    pipe.execute()\n",
    "    return count\n",
    "\n",
    "clear_cache_ns(\"*\", r)"
   ]
  },
  {
   "cell_type": "code",
   "execution_count": 6,
   "metadata": {},
   "outputs": [
    {
     "data": {
      "text/plain": [
       "0"
      ]
     },
     "execution_count": 6,
     "metadata": {},
     "output_type": "execute_result"
    }
   ],
   "source": [
    "from redis import StrictRedis\n",
    "\n",
    "def clear_cache_ns(ns, r):\n",
    "    \"\"\"\n",
    "    Clears a namespace in redis cache.\n",
    "    This may be very time consuming.\n",
    "    :param ns: str, namespace i.e your:prefix*\n",
    "    :return: int, num cleared keys\n",
    "    \"\"\"\n",
    "    count = 0\n",
    "    pipe = r.pipeline()\n",
    "    for key in r.scan_iter(ns):\n",
    "        print(key)\n",
    "        print(r.hgetall(key))\n",
    "        count += 1\n",
    "    pipe.execute()\n",
    "    return count\n",
    "\n",
    "clear_cache_ns(\"*\", r)"
   ]
  },
  {
   "cell_type": "code",
   "execution_count": null,
   "metadata": {},
   "outputs": [],
   "source": []
  }
 ],
 "metadata": {
  "kernelspec": {
   "display_name": "redis_env",
   "language": "python",
   "name": "redis_env"
  },
  "language_info": {
   "codemirror_mode": {
    "name": "ipython",
    "version": 3
   },
   "file_extension": ".py",
   "mimetype": "text/x-python",
   "name": "python",
   "nbconvert_exporter": "python",
   "pygments_lexer": "ipython3",
   "version": "3.6.13"
  }
 },
 "nbformat": 4,
 "nbformat_minor": 4
}
