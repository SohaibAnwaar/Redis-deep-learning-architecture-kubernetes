{
 "cells": [
  {
   "cell_type": "code",
   "execution_count": 25,
   "metadata": {},
   "outputs": [],
   "source": [
    "import redis\n",
    "\n",
    "# connect to redis\n",
    "import redis\n",
    "# connect with redis server as Alice\n",
    "r = redis.Redis(host='192.168.18.14', port=6379)\n",
    "\n"
   ]
  },
  {
   "cell_type": "code",
   "execution_count": 26,
   "metadata": {},
   "outputs": [],
   "source": [
    "requests = [\n",
    " \"I need a beer\",\n",
    " \"Hey! How are you Sohaib! I need 2 fresh lime\",\n",
    " \"Boy! Give me a pizza\",\n",
    " \"Hey My name is Nina! from tekken 7 I need you phone number!\",\n",
    " \"Hey I need Invoker's magic\",\n",
    " \"I want the owner of the magic shop! He just give ciggrestts to a monkey!\",\n",
    " \"Hey! Wanna go on a date!\",\n",
    " \"I need pudge arcana hook!\"\n",
    "]"
   ]
  },
  {
   "cell_type": "code",
   "execution_count": 85,
   "metadata": {},
   "outputs": [
    {
     "name": "stderr",
     "output_type": "stream",
     "text": [
      "/home/sohaib/anaconda3/envs/redis_env/lib/python3.6/site-packages/ipykernel_launcher.py:24: DeprecationWarning: Pipeline.hmset() is deprecated. Use Pipeline.hset() instead.\n"
     ]
    },
    {
     "name": "stdout",
     "output_type": "stream",
     "text": [
      "Request Done 5000\n"
     ]
    }
   ],
   "source": [
    "\n",
    "import io, random\n",
    "from datetime import datetime, timedelta\n",
    "\n",
    "brust     = 5000\n",
    "count     = 0 \n",
    "\n",
    "# publish new music in the channel epic_music\n",
    "\n",
    "\n",
    "\n",
    "\n",
    "\n",
    "\n",
    "with r.pipeline() as pipe:\n",
    "    for i in range(0, brust):\n",
    "        random_id = int(random.random()*100000)\n",
    "        image= {\n",
    "                'request'        : random.choice(requests),\n",
    "                'request_time'   :str(datetime.today()),\n",
    "                'request_status' :\"pending\"\n",
    "                }\n",
    "        r.publish('request', str(i))\n",
    "\n",
    "        pipe.hmset(i, image)\n",
    "        count+=1\n",
    "    \n",
    "        pipe.execute()\n",
    "print(f\"Request Done {count}\")"
   ]
  },
  {
   "cell_type": "markdown",
   "metadata": {},
   "source": [
    "# Get All Request"
   ]
  },
  {
   "cell_type": "code",
   "execution_count": 86,
   "metadata": {},
   "outputs": [
    {
     "name": "stdout",
     "output_type": "stream",
     "text": [
      "5000\n",
      "Request Processed 5000\n",
      "Average Whole Request Processing Time this artitecture: 0.010576498999999967\n",
      "Average Request Processed Time By CSR: 0.005275984599999988\n",
      "Request Processed by Counter({'sohaib-Z490-GAMING-X': 5000})\n"
     ]
    }
   ],
   "source": [
    "from collections import Counter\n",
    "def millis_interval(end, start):\n",
    "    \"\"\"start and end are datetime instances\"\"\"\n",
    "    diff = end - start\n",
    "    millis = diff.days * 24 * 60 * 60 * 1000\n",
    "    millis += diff.seconds * 1000\n",
    "    millis += diff.microseconds / 1000\n",
    "    return millis\n",
    "\n",
    "count = 0\n",
    "processing_time = []\n",
    "task_done_time  = []\n",
    "server_name     = []\n",
    "not_processed   = 0\n",
    "\n",
    "\n",
    "\n",
    "for k in r.scan_iter(match='*'):\n",
    "    i = r.hgetall(k)\n",
    "#     print(i)\n",
    "    try:\n",
    "        request_time    = datetime.strptime(i[b'request_time'].decode(), \"%Y-%m-%d %H:%M:%S.%f\")\n",
    "        delivery_time   = datetime.strptime(i[b'delivery_time'].decode(), \"%Y-%m-%d %H:%M:%S.%f\")\n",
    "        response_time   = datetime.strptime(i[b'modified_time'].decode(), \"%Y-%m-%d %H:%M:%S.%f\")\n",
    "        CSR_NAME        = i[b'server_name'].decode()\n",
    "    \n",
    "        #+ timedelta(hours=5)\n",
    "        processing_time.append(millis_interval(response_time  , request_time ))\n",
    "        task_done_time.append(millis_interval(response_time  , delivery_time))\n",
    "        server_name.append(CSR_NAME)\n",
    "    except Exception as e:\n",
    "        print(e)\n",
    "        pass\n",
    "    \n",
    "    count += 1\n",
    "    \n",
    "print(count)\n",
    "print(f\"Request Processed {brust - not_processed}\")\n",
    "print(f\"Average Whole Request Processing Time this artitecture: {(sum(processing_time)/len(processing_time))/1000}\")\n",
    "print(f\"Average Request Processed Time By CSR: {(sum(task_done_time)/len(task_done_time))/1000}\")\n",
    "print(f\"Request Processed by {Counter(server_name)}\")"
   ]
  },
  {
   "cell_type": "code",
   "execution_count": 87,
   "metadata": {},
   "outputs": [
    {
     "ename": "NameError",
     "evalue": "name 'col' is not defined",
     "output_type": "error",
     "traceback": [
      "\u001b[0;31m---------------------------------------------------------------------------\u001b[0m",
      "\u001b[0;31mNameError\u001b[0m                                 Traceback (most recent call last)",
      "\u001b[0;32m<ipython-input-87-642e3a6b88c6>\u001b[0m in \u001b[0;36m<module>\u001b[0;34m\u001b[0m\n\u001b[1;32m      4\u001b[0m \u001b[0mnot_processed\u001b[0m   \u001b[0;34m=\u001b[0m \u001b[0;36m0\u001b[0m\u001b[0;34m\u001b[0m\u001b[0;34m\u001b[0m\u001b[0m\n\u001b[1;32m      5\u001b[0m \u001b[0;34m\u001b[0m\u001b[0m\n\u001b[0;32m----> 6\u001b[0;31m \u001b[0marray\u001b[0m \u001b[0;34m=\u001b[0m \u001b[0;34m[\u001b[0m\u001b[0mi\u001b[0m \u001b[0;32mfor\u001b[0m \u001b[0mi\u001b[0m \u001b[0;32min\u001b[0m \u001b[0mcol\u001b[0m\u001b[0;34m.\u001b[0m\u001b[0mfind\u001b[0m\u001b[0;34m(\u001b[0m\u001b[0;34m)\u001b[0m\u001b[0;34m]\u001b[0m\u001b[0;34m\u001b[0m\u001b[0;34m\u001b[0m\u001b[0m\n\u001b[0m\u001b[1;32m      7\u001b[0m \u001b[0mprint\u001b[0m\u001b[0;34m(\u001b[0m\u001b[0mlen\u001b[0m\u001b[0;34m(\u001b[0m\u001b[0marray\u001b[0m\u001b[0;34m)\u001b[0m\u001b[0;34m)\u001b[0m\u001b[0;34m\u001b[0m\u001b[0;34m\u001b[0m\u001b[0m\n\u001b[1;32m      8\u001b[0m \u001b[0;32mfor\u001b[0m \u001b[0mi\u001b[0m \u001b[0;32min\u001b[0m \u001b[0marray\u001b[0m\u001b[0;34m:\u001b[0m\u001b[0;34m\u001b[0m\u001b[0;34m\u001b[0m\u001b[0m\n",
      "\u001b[0;31mNameError\u001b[0m: name 'col' is not defined"
     ]
    }
   ],
   "source": [
    "\n",
    "\n",
    "\n",
    "processing_time = []\n",
    "task_done_time  = []\n",
    "server_name     = []\n",
    "not_processed   = 0\n",
    "\n",
    "array = [i for i in col.find()]\n",
    "print(len(array))\n",
    "for i in array:\n",
    "    \n",
    "    try:\n",
    "        request_time    = i['request_time']\n",
    "        delivery_time   = i['processing_time']\n",
    "        response_time   = i['response_time']\n",
    "        CSR_NAME        = i['CSR_NAME']\n",
    "\n",
    "        # Adding 5 hours because my docker and host time is not synced with each other\n",
    "        processing_time.append(millis_interval(response_time + timedelta(hours=5) , request_time ))\n",
    "        task_done_time.append(millis_interval(response_time  , delivery_time))\n",
    "        server_name.append(CSR_NAME)\n",
    "    except Exception as e:\n",
    "        not_processed += 1\n",
    "        \n",
    "print(f\"Request Processed {brust - not_processed}\")\n",
    "print(f\"Average Whole Request Processing Time this artitecture: {(sum(processing_time)/len(processing_time))/1000}\")\n",
    "print(f\"Average Request Processed Time By CSR: {(sum(task_done_time)/len(task_done_time))/1000}\")\n",
    "print(f\"Request Processed by {Counter(server_name)}\")"
   ]
  },
  {
   "cell_type": "markdown",
   "metadata": {},
   "source": [
    "# Pubsub"
   ]
  },
  {
   "cell_type": "code",
   "execution_count": null,
   "metadata": {},
   "outputs": [],
   "source": [
    "from redis import StrictRedis\n",
    "\n",
    "def clear_cache_ns(ns, r):\n",
    "    \"\"\"\n",
    "    Clears a namespace in redis cache.\n",
    "    This may be very time consuming.\n",
    "    :param ns: str, namespace i.e your:prefix*\n",
    "    :return: int, num cleared keys\n",
    "    \"\"\"\n",
    "    count = 0\n",
    "    pipe = r.pipeline()\n",
    "    for key in r.scan_iter(ns):\n",
    "        pipe.delete(key)\n",
    "        count += 1\n",
    "    pipe.execute()\n",
    "    return count\n",
    "\n",
    "clear_cache_ns(\"*\", r)"
   ]
  },
  {
   "cell_type": "code",
   "execution_count": null,
   "metadata": {},
   "outputs": [],
   "source": []
  }
 ],
 "metadata": {
  "kernelspec": {
   "display_name": "redis_env",
   "language": "python",
   "name": "redis_env"
  },
  "language_info": {
   "codemirror_mode": {
    "name": "ipython",
    "version": 3
   },
   "file_extension": ".py",
   "mimetype": "text/x-python",
   "name": "python",
   "nbconvert_exporter": "python",
   "pygments_lexer": "ipython3",
   "version": "3.6.13"
  }
 },
 "nbformat": 4,
 "nbformat_minor": 4
}
