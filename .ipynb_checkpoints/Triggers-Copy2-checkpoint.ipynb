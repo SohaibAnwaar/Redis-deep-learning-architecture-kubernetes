{
 "cells": [
  {
   "cell_type": "code",
   "execution_count": 1,
   "metadata": {},
   "outputs": [],
   "source": [
    "import redis\n",
    "from datetime import datetime\n",
    "import socket\n",
    "from IPython.display import clear_output\n",
    "\n",
    "\n",
    "\n",
    "def processing_request(request):\n",
    "    '''\n",
    "    Description:\n",
    "        Get the string, takes its length and run a loop 10 times of string length and set the \n",
    "        response to processed.\n",
    "        \n",
    "    Input:\n",
    "        request  (str) : Random String\n",
    "        \n",
    "    Output:\n",
    "        Set value back to the mongo db\n",
    "            response: Processed\n",
    "    '''\n",
    "    for i in range(0,len(request)*10):\n",
    "        pass\n",
    "    return len(request)\n",
    "\n",
    "\n",
    "\n",
    "def process_request(r: redis.Redis, itemid: int) -> None:\n",
    "    with r.pipeline() as pipe:\n",
    "        \n",
    "        machine_name = socket.gethostname()\n",
    "        try:\n",
    "            \n",
    "            received_time = str(datetime.today())\n",
    "            val           = str(r.hget(itemid, b'request').decode())\n",
    "            \n",
    "            values = processing_request(val)\n",
    "\n",
    "            # Setting request status done\n",
    "            r.hmset(itemid,{'received_time' :received_time,\n",
    "                            \"count_letters\" :values,\n",
    "                            \"request_status\":\"done\",\n",
    "                            \"processed_time\":str(datetime.today()),\n",
    "                            \"server_name\"   : machine_name,\n",
    "                            \"server_status\"   : \"free\"\n",
    "                           })\n",
    "\n",
    "\n",
    "\n",
    "        except redis.WatchError:\n",
    "            # Log total num. of errors by this user to buy this item,\n",
    "            # then try the same process again of WATCH/HGET/MULTI/EXEC\n",
    "            error_count += 1\n",
    "            print(\"Error Occured\")\n",
    "    return None\n",
    "\n",
    "\n"
   ]
  },
  {
   "cell_type": "code",
   "execution_count": null,
   "metadata": {
    "scrolled": true
   },
   "outputs": [
    {
     "name": "stdout",
     "output_type": "stream",
     "text": [
      "502\n"
     ]
    }
   ],
   "source": [
    "import time\n",
    "import time\n",
    "from threading import Thread\n",
    "import redis\n",
    "\n",
    "\n",
    "# connect with redis server as Bob\n",
    "r = redis.Redis(host='192.168.18.14', port=6378)\n",
    "\n",
    "# Publish and suscribe redis\n",
    "req_p = r.pubsub()\n",
    "requests =[]\n",
    "count = 0\n",
    "\n",
    "# subscribe to request Channel\n",
    "req_p.subscribe('new_request')\n",
    "\n",
    "while 1:\n",
    "    \n",
    "    try:\n",
    "        try:\n",
    "        \n",
    "            request = str(req_p.get_message()['data'].decode())\n",
    "            if request is not None :requests.append(request)\n",
    "        except TypeError as e:\n",
    "            pass\n",
    "            \n",
    "        if len(requests) > 0:\n",
    "            req_id = requests.pop(0)\n",
    "            process_request(r, req_id ,)\n",
    "            count +=1\n",
    "        clear_output(wait=True)\n",
    "        print(count)\n",
    "        \n",
    "    except Exception as e:\n",
    "        pass\n",
    "        \n",
    "    \n",
    "        "
   ]
  },
  {
   "cell_type": "code",
   "execution_count": null,
   "metadata": {},
   "outputs": [],
   "source": []
  }
 ],
 "metadata": {
  "kernelspec": {
   "display_name": "redis_env",
   "language": "python",
   "name": "redis_env"
  },
  "language_info": {
   "codemirror_mode": {
    "name": "ipython",
    "version": 3
   },
   "file_extension": ".py",
   "mimetype": "text/x-python",
   "name": "python",
   "nbconvert_exporter": "python",
   "pygments_lexer": "ipython3",
   "version": "3.6.13"
  }
 },
 "nbformat": 4,
 "nbformat_minor": 4
}
